{
 "cells": [
  {
   "cell_type": "code",
   "execution_count": null,
   "metadata": {},
   "outputs": [],
   "source": [
    "# Works best with jupyter-notebook"
   ]
  },
  {
   "cell_type": "code",
   "execution_count": null,
   "metadata": {},
   "outputs": [],
   "source": [
    "%matplotlib notebook \n",
    "#%matplotlib widget \n",
    "# https://ipython.readthedocs.io/en/stable/interactive/magics.html\n",
    "import numpy as np\n",
    "\n",
    "from roboticstoolbox import *\n",
    "import roboticstoolbox.tools.trajectory as tr\n",
    "\n",
    "import matplotlib.pyplot as plt\n",
    "np.set_printoptions(linewidth=100, formatter={'float': lambda x: f\"{x:8.4g}\" if abs(x) > 1e-10 else f\"{0:8.4g}\"})"
   ]
  },
  {
   "cell_type": "markdown",
   "metadata": {},
   "source": [
    "# Lecture 4.4 Multidimensional Smooth Trajectories"
   ]
  },
  {
   "cell_type": "markdown",
   "metadata": {},
   "source": [
    "In this notebook, we set out to learn the implications of working with multile dimensions. Namely, a robot with more than one motor/degree of freedom; or alternatively, working on the xy-plane for example.\n",
    "\n",
    "In this section, we will leverage the function **jtraj** to learn to create smooth multi-dimensional motions with initial and final positions under a desired number of timesteps. \n",
    "\n",
    "Begin by setting your start and end joint positions:"
   ]
  },
  {
   "cell_type": "code",
   "execution_count": null,
   "metadata": {
    "scrolled": true
   },
   "outputs": [],
   "source": [
    "#Set a first point of (10, 20) and a last point of (30, 10):\n",
    "first = np.array([10,20])\n",
    "last  = np.array([30,10])\n",
    "\n",
    "print(first, last)"
   ]
  },
  {
   "cell_type": "markdown",
   "metadata": {},
   "source": [
    "Compute a trajectory using the toolbox function jtraj(), \n",
    "accepting arguments of the first point, the last point and the number of timesteps:\n",
    "\n",
    "tg = jtraj(q0, qf, M): is a joint space trajectory where the joint\n",
    "coordinates vary from ``q0`` (N) to ``qf`` (N).  \n",
    "\n",
    "A quintic (5th order) polynomial is used with default zero boundary conditions for velocity and acceleration.\n",
    "\n",
    "The method returns a named tuple just as with tpoly and mstraj, but in this case we have a difference for time where we use t instead of x:\n",
    "- t: time\n",
    "- q: position\n",
    "- dq: velocity\n",
    "- qdd: acceleration"
   ]
  },
  {
   "cell_type": "code",
   "execution_count": null,
   "metadata": {},
   "outputs": [],
   "source": [
    "timesteps = 10\n",
    "out = tr.jtraj(first, last, timesteps)\n",
    "print(out)"
   ]
  },
  {
   "cell_type": "markdown",
   "metadata": {},
   "source": [
    "Time:"
   ]
  },
  {
   "cell_type": "code",
   "execution_count": null,
   "metadata": {},
   "outputs": [],
   "source": [
    "print(out.t) # pos, vel, acc"
   ]
  },
  {
   "cell_type": "markdown",
   "metadata": {},
   "source": [
    "Positions:"
   ]
  },
  {
   "cell_type": "code",
   "execution_count": null,
   "metadata": {},
   "outputs": [],
   "source": [
    "print(out.q)   # trajectory"
   ]
  },
  {
   "cell_type": "markdown",
   "metadata": {},
   "source": [
    "Velocities:"
   ]
  },
  {
   "cell_type": "code",
   "execution_count": null,
   "metadata": {},
   "outputs": [],
   "source": [
    "print(out.qd)"
   ]
  },
  {
   "cell_type": "markdown",
   "metadata": {},
   "source": [
    "Accelerations:"
   ]
  },
  {
   "cell_type": "code",
   "execution_count": null,
   "metadata": {},
   "outputs": [],
   "source": [
    "print(out.qdd)"
   ]
  },
  {
   "cell_type": "markdown",
   "metadata": {},
   "source": [
    "Let us plot the trajectory to facilitate visualization"
   ]
  },
  {
   "cell_type": "code",
   "execution_count": null,
   "metadata": {},
   "outputs": [],
   "source": [
    "fig1 = plt.figure(1);\n",
    "\n",
    "plt.xlabel('Time (secs)');\n",
    "plt.ylabel('Position (x)');\n",
    "plt.plot(out.q);"
   ]
  },
  {
   "cell_type": "markdown",
   "metadata": {},
   "source": [
    "Plot the velocity graph for the two joints over time"
   ]
  },
  {
   "cell_type": "code",
   "execution_count": null,
   "metadata": {},
   "outputs": [],
   "source": [
    "fig2 = plt.figure(2)\n",
    "\n",
    "plt.xlabel('Time (secs)');\n",
    "plt.ylabel('velocity xd (units/sec)');\n",
    "plt.plot(out.qd);"
   ]
  },
  {
   "cell_type": "markdown",
   "metadata": {},
   "source": [
    "You may also desire to specify initial and final velocities to each axis. \n",
    "\n",
    "In this case we will ask for the initial velocity to be 0 units/second and the final velocity to be 10 units/second in each axis:"
   ]
  },
  {
   "cell_type": "code",
   "execution_count": null,
   "metadata": {},
   "outputs": [],
   "source": [
    "first = np.array([10,20])\n",
    "last  = np.array([30,10])\n",
    "\n",
    "qd0   = np.array([0,0])\n",
    "qdf   = np.array([10,10])\n",
    "\n",
    "out = tr.jtraj(first, last, timesteps, qd0, qdf)"
   ]
  },
  {
   "cell_type": "code",
   "execution_count": null,
   "metadata": {},
   "outputs": [],
   "source": [
    "t   = out.t     # time coordinate\n",
    "x   = out.q     # trajectory\n",
    "xd  = out.qd    # velocity\n",
    "xdd = out.qdd   # acceleration"
   ]
  },
  {
   "cell_type": "markdown",
   "metadata": {},
   "source": [
    "Let's plot the velocity once again to compare the profiles with different final conditions"
   ]
  },
  {
   "cell_type": "code",
   "execution_count": null,
   "metadata": {},
   "outputs": [],
   "source": [
    "#plot velocity\n",
    "fig3=plt.figure(3)\n",
    "plt.xlabel('time (secs)');\n",
    "plt.ylabel('pos x (units/sec)');\n",
    "plt.plot(xd);"
   ]
  },
  {
   "cell_type": "markdown",
   "metadata": {},
   "source": [
    "## 2D Example with Via-Points"
   ]
  },
  {
   "cell_type": "markdown",
   "metadata": {},
   "source": [
    "A 2D trajectory with via points can also be computed. But to do this, we will need indendent vectors with blends. \n",
    "\n",
    "We can use mstraj as before. \n",
    "\n",
    "Set a first point of (40, 50) and via points at (60, 30), (40, 10), (20, 30) and returning back to the start position. It makes a diamond, starting at the top vertex and then moving clock-wise."
   ]
  },
  {
   "cell_type": "code",
   "execution_count": null,
   "metadata": {},
   "outputs": [],
   "source": [
    "start=np.array([40,50])\n",
    "via=np.array([\n",
    "    [40,50],\n",
    "    [60,30],\n",
    "    [40,10],\n",
    "    [20,30],\n",
    "    [40,50]\n",
    "    ])\n",
    "print(\"Starting point at top of the diamond is: \", start)\n",
    "print(\"Then move clock-wise around the diamond: \\n\", via)"
   ]
  },
  {
   "cell_type": "markdown",
   "metadata": {},
   "source": [
    "---\n",
    "Compute the trajectory using the toolbox function **mstraj()**.\n",
    "\n",
    "\n",
    "Let us frist use simple numbers, later you can modify variable values. \n",
    "\n",
    "Provide:\n",
    "- **multi-dimensional via points**\n",
    "\n",
    "- a velocity of 1 units/second, \n",
    "- null segment velocities, \n",
    "- the start position, \n",
    "- the time step of 1 seconds \n",
    "- the acceleration duration time of 0 seconds:"
   ]
  },
  {
   "cell_type": "code",
   "execution_count": null,
   "metadata": {},
   "outputs": [],
   "source": [
    "dt   = 1\n",
    "tacc = 0\n",
    "qdmax= 1\n",
    "\n",
    "out = tr.mstraj(via, dt, tacc, qdmax, q0=start)"
   ]
  },
  {
   "cell_type": "markdown",
   "metadata": {},
   "source": [
    "Time duration:"
   ]
  },
  {
   "cell_type": "code",
   "execution_count": null,
   "metadata": {},
   "outputs": [],
   "source": [
    "print(\"The trajectory lasts a total of \", out.t[-1]+dt, \" secs.\")"
   ]
  },
  {
   "cell_type": "markdown",
   "metadata": {},
   "source": [
    "Arrival times:"
   ]
  },
  {
   "cell_type": "code",
   "execution_count": null,
   "metadata": {},
   "outputs": [],
   "source": [
    "print(\"The segments arrival times are as follows \\n\", out.arrive)"
   ]
  },
  {
   "cell_type": "markdown",
   "metadata": {},
   "source": [
    "Position information:"
   ]
  },
  {
   "cell_type": "code",
   "execution_count": null,
   "metadata": {},
   "outputs": [],
   "source": [
    "print(\"The actual trajectory is: \", out.q)"
   ]
  },
  {
   "cell_type": "markdown",
   "metadata": {},
   "source": [
    "Via point information:"
   ]
  },
  {
   "cell_type": "code",
   "execution_count": null,
   "metadata": {},
   "outputs": [],
   "source": [
    "print(\"My via points are: \\n\", out.via.squeeze())"
   ]
  },
  {
   "cell_type": "markdown",
   "metadata": {},
   "source": [
    "Plot the figure of the joint angles for each joint. "
   ]
  },
  {
   "cell_type": "code",
   "execution_count": null,
   "metadata": {},
   "outputs": [],
   "source": [
    "# Plot\n",
    "fig4=plt.figure(4)\n",
    "plt.plot(out.q);"
   ]
  },
  {
   "cell_type": "markdown",
   "metadata": {},
   "source": [
    "There is another interesting way to plot this graph. \n",
    "\n",
    "Plotting the first coordinate versus the second coordinate shows the motion of the point on the xy-plane:"
   ]
  },
  {
   "cell_type": "code",
   "execution_count": null,
   "metadata": {},
   "outputs": [],
   "source": [
    "fig5 = plt.figure(5)\n",
    "plt.plot(out.q[:,0], out.q[:,1], color='black');\n",
    "\n",
    "plt.xlabel('x');\n",
    "plt.ylabel('y');"
   ]
  },
  {
   "cell_type": "markdown",
   "metadata": {},
   "source": [
    "## What if we want each axis to move at a different velocity?"
   ]
  },
  {
   "cell_type": "markdown",
   "metadata": {},
   "source": [
    "The velocity of each axis can be specified separately by passing a velocity vector qdmax. \n",
    "\n",
    "In this case a velocity of 1 unit/second in the x-axis and 3 units/second in the y-axis:"
   ]
  },
  {
   "cell_type": "code",
   "execution_count": null,
   "metadata": {},
   "outputs": [],
   "source": [
    "dt   = 0.1\n",
    "tacc = 1.0\n",
    "qdmax = [1,3]\n",
    "\n",
    "out=tr.mstraj(via, dt, tacc, qdmax, q0=start)"
   ]
  },
  {
   "cell_type": "markdown",
   "metadata": {},
   "source": [
    "We can plot independent velocity profiles"
   ]
  },
  {
   "cell_type": "code",
   "execution_count": null,
   "metadata": {},
   "outputs": [],
   "source": [
    "fig6 = plt.figure(6)\n",
    "plt.plot(out.q);"
   ]
  },
  {
   "cell_type": "markdown",
   "metadata": {},
   "source": [
    "What do you notice about the duration of the above graph? "
   ]
  },
  {
   "cell_type": "markdown",
   "metadata": {},
   "source": [
    "What is the ratio of qdmax before to the slower axis now?"
   ]
  },
  {
   "cell_type": "markdown",
   "metadata": {},
   "source": [
    "---\n",
    "We can again plot the 1st vs 2nd coordinate to show the xy motion:\n"
   ]
  },
  {
   "cell_type": "code",
   "execution_count": null,
   "metadata": {},
   "outputs": [],
   "source": [
    "fig7 = plt.figure(7)\n",
    "\n",
    "plt.plot(out.q[:,0], out.q[:,1]);\n",
    "plt.xlabel('x');\n",
    "plt.ylabel('y');"
   ]
  },
  {
   "cell_type": "markdown",
   "metadata": {},
   "source": [
    "mstraj still generates smooth motions for both dimensions. It does so by first identifying the slower joint and using that information to compute the trajectory for the other joints."
   ]
  },
  {
   "cell_type": "code",
   "execution_count": null,
   "metadata": {},
   "outputs": [],
   "source": []
  }
 ],
 "metadata": {
  "kernelspec": {
   "display_name": "Python 3",
   "language": "python",
   "name": "python3"
  },
  "language_info": {
   "codemirror_mode": {
    "name": "ipython",
    "version": 3
   },
   "file_extension": ".py",
   "mimetype": "text/x-python",
   "name": "python",
   "nbconvert_exporter": "python",
   "pygments_lexer": "ipython3",
   "version": "3.8.5"
  }
 },
 "nbformat": 4,
 "nbformat_minor": 4
}
