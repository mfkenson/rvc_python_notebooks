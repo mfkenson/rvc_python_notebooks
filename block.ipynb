{
 "cells": [
  {
   "cell_type": "code",
   "execution_count": null,
   "metadata": {},
   "outputs": [],
   "source": [
    "# Works best with jupyter-notebook"
   ]
  },
  {
   "cell_type": "code",
   "execution_count": 1,
   "metadata": {},
   "outputs": [],
   "source": [
    "%matplotlib notebook \n",
    "#%matplotlib widget \n",
    "# https://ipython.readthedocs.io/en/stable/interactive/magics.html\n",
    "import numpy as np\n",
    "\n",
    "import bdsim\n",
    "np.set_printoptions(linewidth=100, formatter={'float': lambda x: f\"{x:8.4g}\" if abs(x) > 1e-10 else f\"{0:8.4g}\"})"
   ]
  },
  {
   "cell_type": "markdown",
   "metadata": {},
   "source": [
    "# Lecture 10.4"
   ]
  },
  {
   "cell_type": "markdown",
   "metadata": {},
   "source": [
    "In this notebook, we will learn to model a dynamical system using the bdsim simulation class. \n",
    "\n",
    "Learn more at:\\\n",
    "https://petercorke.github.io/bdsim/"
   ]
  },
  {
   "cell_type": "markdown",
   "metadata": {},
   "source": [
    "We will begin by modeling the mass-spring system which resembles the behvior of motors and thus it is appropriate to understand for robotics."
   ]
  },
  {
   "cell_type": "markdown",
   "metadata": {},
   "source": [
    "First create a bdsim object instance"
   ]
  },
  {
   "cell_type": "code",
   "execution_count": 2,
   "metadata": {},
   "outputs": [],
   "source": [
    "#!pip3 install ipykernel\n",
    "#!pip3 install easydict"
   ]
  },
  {
   "cell_type": "code",
   "execution_count": 7,
   "metadata": {},
   "outputs": [
    {
     "name": "stdout",
     "output_type": "stream",
     "text": [
      "Collecting easydict\n",
      "  Downloading easydict-1.9.tar.gz (6.4 kB)\n",
      "Building wheels for collected packages: easydict\n",
      "  Building wheel for easydict (setup.py) ... \u001b[?25ldone\n",
      "\u001b[?25h  Created wheel for easydict: filename=easydict-1.9-py3-none-any.whl size=6349 sha256=0bc8ab282f8936d447bbaf3ebabb54226836329db1d349ca65f331d3b2fd8325\n",
      "  Stored in directory: /home/juan/.cache/pip/wheels/d3/e0/e9/305e348717e399665119bd012510d51ff4f22d709ff60c3096\n",
      "Successfully built easydict\n",
      "Installing collected packages: easydict\n",
      "Successfully installed easydict-1.9\n"
     ]
    }
   ],
   "source": [
    "# import argparse\n",
    "# parser = argparse.ArgumentParser()\n",
    "# parser.add_argument(\"--backend\", type=str, default=\"Swift\")\n",
    "# #parser.add_argument(\"-h\")\n",
    "# args = parser.parse_args() \n",
    "\n",
    "import easydict\n",
    "args = easydict.EasyDict()"
   ]
  },
  {
   "cell_type": "code",
   "execution_count": 10,
   "metadata": {},
   "outputs": [
    {
     "name": "stderr",
     "output_type": "stream",
     "text": [
      "usage: ipykernel_launcher.py [-h] [--backend BACKEND] [--tiles ROWSxCOLS]\n",
      "                             [--nographics] [--animation] [--noprogress]\n",
      "                             [--debug [psd]]\n",
      "ipykernel_launcher.py: error: unrecognized arguments: -f /home/juan/.local/share/jupyter/runtime/kernel-78ff4257-6fae-4e0b-b110-237f487645af.json\n"
     ]
    },
    {
     "ename": "SystemExit",
     "evalue": "2",
     "output_type": "error",
     "traceback": [
      "An exception has occurred, use %tb to see the full traceback.\n",
      "\u001b[0;31mSystemExit\u001b[0m\u001b[0;31m:\u001b[0m 2\n"
     ]
    }
   ],
   "source": [
    "## jupyter notebook is passing the directory path with option -f by default. \n",
    "bd = bdsim.BlockDiagram()"
   ]
  },
  {
   "cell_type": "markdown",
   "metadata": {},
   "source": [
    "After that, create all necessary objects used in the dynamical system."
   ]
  },
  {
   "cell_type": "code",
   "execution_count": null,
   "metadata": {},
   "outputs": [],
   "source": [
    "# define the blocks\n",
    "demand = bd.STEP(T=1, pos=(0,0), name='demand') # input step signal\n",
    "\n",
    "sum    = bd.SUM('+-', pos=(1,  0))              # addition operation\n",
    "\n",
    "minv   = bd.GAIN( 0.5,  pos=(1, 2))            # 1/m gain\n",
    "b      = bd.GAIN(-2.0,  pos=(2, 0))            # -b gain\n",
    "k      = bd.GAIN(-10.0, pos=(3, -1))           # -K gain\n",
    "\n",
    "int1 = bd.LTI_SISO(1, [1], name='integrator1', pos=(2, 2)) # Integrator 1/s\n",
    "int2 = bd.LTI_SISO(1, [1], name='integrator1', pos=(4, 2)) # Integrator 1/s\n",
    "\n",
    "scope = bd.SCOPE(styles=['k', 'r--'], pos=(6,2))"
   ]
  },
  {
   "cell_type": "markdown",
   "metadata": {},
   "source": [
    "### Connections\n",
    "In bdsim all wires are point to point, a one-to-many connection is implemented by many wires."
   ]
  },
  {
   "cell_type": "markdown",
   "metadata": {},
   "source": [
    "**Ports**\\\n",
    "Ports are designated using Python indexing and slicing notation, for example sum[0]. \n",
    "\n",
    "**Input or Output**:\\\n",
    "Whether a port is an input or output port depends on context.\n",
    "\n",
    "Blocks are connected by `connect(from, to_1, to_2, ...)`.\n",
    "\n",
    "So an index on: \n",
    "- the first argument refers to an output port, \n",
    "- the second (or subsequent) arguments refers to an input port. \n",
    "\n",
    "If a port has only a single port then no index is required."
   ]
  },
  {
   "cell_type": "markdown",
   "metadata": {},
   "source": [
    "**Bundle of wires**:\\\n",
    "Can be denoted using slice notation, for example block[2:4] refers to ports 2 and 3. \n",
    "\n",
    "When connecting slices of ports the number of wires in each slice must be consistent. \n",
    "\n",
    "You could even do a cross over by connecting block1[2:4] to block2[5:2:-1]."
   ]
  },
  {
   "cell_type": "code",
   "execution_count": null,
   "metadata": {},
   "outputs": [],
   "source": [
    "# Connect the blocks\n",
    "bd.connect(demand, sum[0], scope[1])    # desired incoming position\n",
    "\n",
    "bd.connect(sum, minv)\n",
    "bd.connect(minv, int1)\n",
    "\n",
    "bd.connect(int1, b)\n",
    "bd.connect(int1, int2)\n",
    "\n",
    "bd.connect(int2, scope)\n",
    "bd.connect(int2, k)"
   ]
  },
  {
   "cell_type": "markdown",
   "metadata": {},
   "source": [
    "### Checking:\n",
    "Before running, it is important to ensure that the diagram has been correctly constructed. To that end, we can use the compile() method."
   ]
  },
  {
   "cell_type": "code",
   "execution_count": null,
   "metadata": {},
   "outputs": [],
   "source": [
    "# Checks\n",
    "bd.compile()   # check the diagram"
   ]
  },
  {
   "cell_type": "markdown",
   "metadata": {},
   "source": [
    "### Reporting:\n",
    "It is possible to obtain a report of the block diagram by using the report() method. This will show the numa of the blocks, their inputs, outputs, and state, along with wire connection information."
   ]
  },
  {
   "cell_type": "code",
   "execution_count": null,
   "metadata": {},
   "outputs": [],
   "source": [
    "bd.report()    # list all blocks and wires"
   ]
  },
  {
   "cell_type": "markdown",
   "metadata": {},
   "source": [
    "### Simulating:\n",
    "Once you are sure your model is correct, you can simulate the behavior of the simulated model according to the desired input. Normally, if you have modelled your plant well, it will closely track whatever input signal you have sent to it.\n",
    "\n",
    "You can think of this is as your robot joints following the precise joint angles that you have input to it from jtraj() or some similar method.\n",
    "\n",
    "Currently the run method uses a variable-step Rk45 solver by default and saves output values at least every 0.1s. \n",
    "\n",
    "### Visualization:\n",
    "fter running the simulation, we want to study the output of the plant. The run() method will generate data graphs automatically. "
   ]
  },
  {
   "cell_type": "code",
   "execution_count": null,
   "metadata": {},
   "outputs": [],
   "source": [
    "# Run \n",
    "bd.run(5)             # simulate for 5s\n",
    "#bd.run(5, dt=0.01)   # You can alternatively adjust the dt variable"
   ]
  },
  {
   "cell_type": "markdown",
   "metadata": {},
   "source": [
    "### Saving the Visualization \n",
    "If you wish to save the graphs, you can save them localy into a graphviz or pdf format as shown below.\n",
    "\n",
    "PDFs are simple:"
   ]
  },
  {
   "cell_type": "code",
   "execution_count": null,
   "metadata": {},
   "outputs": [],
   "source": [
    "# Save PDF\n",
    "bd.savefig('pdf')      # save all figures as pdf"
   ]
  },
  {
   "cell_type": "markdown",
   "metadata": {},
   "source": [
    "If you choose to save them into a graphviz format with the bd.dotfile() method, you will need to use either:\n",
    "- the 'dot' program, or \n",
    "- the 'neato' program \n",
    "\n",
    "In linux to visualize. "
   ]
  },
  {
   "cell_type": "code",
   "execution_count": null,
   "metadata": {},
   "outputs": [],
   "source": [
    "bd.dotfile('bd1.dot')  # output a graphviz dot file\n",
    "\n",
    "# Then in a bash terminal outside of the python interpreter do:\n",
    "# dot -Tpng -o demo.png demo.dot\n",
    "# neato -Tpng -o demo.png demo.dot"
   ]
  },
  {
   "cell_type": "markdown",
   "metadata": {},
   "source": [
    "Display characteristics:\n",
    "- Sources:   3D boxes\n",
    "- Sinks:     folders\n",
    "- Gains:     triangles\n",
    "- Summing:   points\n",
    "- Functions: boxes\n",
    "- Transfer Functions: connectors that look likegates"
   ]
  },
  {
   "cell_type": "code",
   "execution_count": null,
   "metadata": {},
   "outputs": [],
   "source": [
    "bd.done()"
   ]
  }
 ],
 "metadata": {
  "kernelspec": {
   "display_name": "Python 3",
   "language": "python",
   "name": "python3"
  },
  "language_info": {
   "codemirror_mode": {
    "name": "ipython",
    "version": 3
   },
   "file_extension": ".py",
   "mimetype": "text/x-python",
   "name": "python",
   "nbconvert_exporter": "python",
   "pygments_lexer": "ipython3",
   "version": "3.8.5"
  }
 },
 "nbformat": 4,
 "nbformat_minor": 4
}
