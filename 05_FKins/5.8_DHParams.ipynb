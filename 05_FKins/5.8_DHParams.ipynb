{
 "cells": [
  {
   "cell_type": "code",
   "execution_count": null,
   "metadata": {},
   "outputs": [],
   "source": [
    "# Works best with jupyter-notebook"
   ]
  },
  {
   "cell_type": "code",
   "execution_count": null,
   "metadata": {},
   "outputs": [],
   "source": [
    "%matplotlib notebook \n",
    "#%matplotlib widget \n",
    "# https://ipython.readthedocs.io/en/stable/interactive/magics.html\n",
    "import math\n",
    "import numpy as np\n",
    "\n",
    "from roboticstoolbox import *\n",
    "import roboticstoolbox as rtb\n",
    "import roboticstoolbox.tools.trajectory as tr\n",
    "\n",
    "from spatialmath import *\n",
    "from spatialmath.base import *\n",
    "import spatialmath.base.symbolic as sym\n",
    "\n",
    "import matplotlib.pyplot as plt\n",
    "np.set_printoptions(linewidth=100, formatter={'float': lambda x: f\"{x:8.4g}\" if abs(x) > 1e-10 else f\"{0:8.4g}\"})"
   ]
  },
  {
   "cell_type": "markdown",
   "metadata": {},
   "source": [
    "# Lecture 5.8 DH Parameterization"
   ]
  },
  {
   "cell_type": "markdown",
   "metadata": {},
   "source": [
    "Denavit-Hartenberg parameterisation only uses 4 numbers to desribe each joint. \n",
    "\n",
    "Let's study DH parameters usin a 2-link planar robot model. We have 2 links (though the base is referred as link 0) and 2 joints. "
   ]
  },
  {
   "cell_type": "code",
   "execution_count": null,
   "metadata": {},
   "outputs": [],
   "source": [
    "p2 = rtb.models.DH.Planar2()\n",
    "print(p2)"
   ]
  },
  {
   "cell_type": "code",
   "execution_count": null,
   "metadata": {},
   "outputs": [],
   "source": [
    "import matplotlib; #matplotlib.use(\"nbAgg\") \n",
    "from mpl_toolkits.mplot3d import Axes3D\n",
    "\n",
    "p2.q=[0.2, 0.3]\n",
    "p2.teach();"
   ]
  },
  {
   "cell_type": "markdown",
   "metadata": {},
   "source": [
    "Given a set of joint anles, we can then capture the pose of the end-effector of the robot"
   ]
  },
  {
   "cell_type": "code",
   "execution_count": null,
   "metadata": {},
   "outputs": [],
   "source": [
    "print(p2.fkine(p2.q))"
   ]
  },
  {
   "cell_type": "markdown",
   "metadata": {},
   "source": [
    "If we want to retrieve scaffolded Homogenous transforms (i.e. 0_T_1, 0_T_2, ... 0_T_N) you can use fkine_all()"
   ]
  },
  {
   "cell_type": "code",
   "execution_count": null,
   "metadata": {},
   "outputs": [],
   "source": [
    "T = p2.fkine_all(p2.q)\n",
    "print(T)\n",
    "type(T)\n",
    "print('0_T_1 transformation: ', T[0])\n",
    "print('0_T_2 transformation: ', T[1])"
   ]
  },
  {
   "cell_type": "markdown",
   "metadata": {},
   "source": [
    "### Puma 560 Model\n",
    "Now, let's look at the 6 DOF puma 560 model."
   ]
  },
  {
   "cell_type": "code",
   "execution_count": null,
   "metadata": {},
   "outputs": [],
   "source": [
    "puma = rtb.models.DH.Puma560()\n",
    "print(puma)"
   ]
  },
  {
   "cell_type": "markdown",
   "metadata": {},
   "source": [
    "Defined joint configurations are:\n",
    "- qz, zero joint angle configuration, ‘L’ shaped configuration\n",
    "- qn, arm is at a nominal non-singular configuration\n",
    "- qr, vertical ‘READY’ configuration\n",
    "- qs, arm is stretched out in the x-direction"
   ]
  },
  {
   "cell_type": "code",
   "execution_count": null,
   "metadata": {},
   "outputs": [],
   "source": [
    "print(puma.qz)\n",
    "puma.plot(puma.qz);"
   ]
  },
  {
   "cell_type": "code",
   "execution_count": null,
   "metadata": {},
   "outputs": [],
   "source": [
    "# Arm in non-singular config\n",
    "print(puma.qn)\n",
    "puma.plot(puma.qn);"
   ]
  },
  {
   "cell_type": "code",
   "execution_count": null,
   "metadata": {},
   "outputs": [],
   "source": [
    "# Upwards in the ready position\n",
    "print(puma.qr)\n",
    "puma.plot(puma.qr);"
   ]
  },
  {
   "cell_type": "code",
   "execution_count": null,
   "metadata": {},
   "outputs": [],
   "source": [
    "# Stretched in the x-direction\n",
    "print(puma.qs)\n",
    "puma.plot(puma.qs);"
   ]
  },
  {
   "cell_type": "markdown",
   "metadata": {},
   "source": [
    "You can also arbitrarily assign the values of the joint angles to produce a particular end-effector pose in Homogenous transformation form."
   ]
  },
  {
   "cell_type": "code",
   "execution_count": null,
   "metadata": {},
   "outputs": [],
   "source": [
    "T = puma.fkine([0.1, 0.2, 0.3, 0.4, 0.3, 0.2])\n",
    "print(T)"
   ]
  },
  {
   "cell_type": "markdown",
   "metadata": {},
   "source": [
    "# Student Exercise... \n",
    "Explore how different joint angle configurations affects the end-effector position and orientation of the robot's end-effector."
   ]
  },
  {
   "cell_type": "code",
   "execution_count": null,
   "metadata": {},
   "outputs": [],
   "source": []
  },
  {
   "cell_type": "markdown",
   "metadata": {},
   "source": [
    "## Base and Tool Transform"
   ]
  },
  {
   "cell_type": "code",
   "execution_count": null,
   "metadata": {},
   "outputs": [],
   "source": [
    "# See the base transform\n",
    "puma.base"
   ]
  },
  {
   "cell_type": "code",
   "execution_count": null,
   "metadata": {},
   "outputs": [],
   "source": [
    "# See the tool transform  \n",
    "puma.tool"
   ]
  },
  {
   "cell_type": "markdown",
   "metadata": {},
   "source": [
    "We can modify the base via translations or rotations"
   ]
  },
  {
   "cell_type": "code",
   "execution_count": null,
   "metadata": {},
   "outputs": [],
   "source": [
    "puma.base = SE3.Tx(10)*SE3.Ty(15)*SE3.Tz(2)\n",
    "puma.base\n",
    "T = puma.fkine([0.1, 0.2, 0.3, 0, 0, 0])\n",
    "print(T)"
   ]
  },
  {
   "cell_type": "code",
   "execution_count": null,
   "metadata": {},
   "outputs": [],
   "source": [
    "# Rotate it upside down\n",
    "puma.base = SE3.Rx(np.pi)\n",
    "T = puma.fkine([0.1, 0.2, 0.3, 0, 0, 0])\n",
    "print(T)"
   ]
  },
  {
   "cell_type": "markdown",
   "metadata": {},
   "source": [
    "# Student exercise:\n",
    "Try changing the tool with an offset of 0.05m in the z-direction. And see how the coords change"
   ]
  },
  {
   "cell_type": "code",
   "execution_count": null,
   "metadata": {},
   "outputs": [],
   "source": []
  },
  {
   "cell_type": "markdown",
   "metadata": {},
   "source": [
    "### Visualize Trajectory Generation with your Robot"
   ]
  },
  {
   "cell_type": "markdown",
   "metadata": {},
   "source": [
    "We can now imagine moving from a starting configuration to a final configuration with our robot. If we would like to display this smooth trajectory, we can use jtraj. Let's move from the puma's qz to qn"
   ]
  },
  {
   "cell_type": "code",
   "execution_count": null,
   "metadata": {},
   "outputs": [],
   "source": [
    "traj = tr.jtraj(puma.qz,puma.qn,50)"
   ]
  },
  {
   "cell_type": "markdown",
   "metadata": {},
   "source": [
    "The robot class then offers an easy way to plot a sequence of angles as those generated by jtraj. We can simply use the plot() method in the class."
   ]
  },
  {
   "cell_type": "code",
   "execution_count": null,
   "metadata": {},
   "outputs": [],
   "source": [
    "puma.plot(traj.y);"
   ]
  },
  {
   "cell_type": "markdown",
   "metadata": {},
   "source": [
    "We can also plot the joint angles directly using the convenience method qplot"
   ]
  },
  {
   "cell_type": "code",
   "execution_count": null,
   "metadata": {},
   "outputs": [],
   "source": [
    "rtb.qplot(traj.y)"
   ]
  },
  {
   "cell_type": "markdown",
   "metadata": {},
   "source": [
    "### ETS Definition of a PUMA robot\n",
    "\n",
    "Beyond the DH parameter, we can use the ETS format we saw earlier to also define the kinematics of the robot as a sequence of simple rigid-body transformations – pure translation or pure rotation – each with either a constant parameter or a free parameter which is a joint variable."
   ]
  },
  {
   "cell_type": "code",
   "execution_count": null,
   "metadata": {},
   "outputs": [],
   "source": [
    "from roboticstoolbox import ETS as E\n",
    "\n",
    "# Links\n",
    "l1 = 0.672; l2 = 0.2337; l3 = 0.4318; l4 = -0.0837; l5 = 0.4318; l6 = 0.0203\n",
    "\n",
    "# ETS\n",
    "e = E.tz(l1) * E.rz() * E.ty(l2) * E.ry() * E.tz(l3) * E.tx(l6) * E.ty(l4) * E.ry() * E.tz(l5) * E.rz() * E.ry() * E.rz()\n",
    "print(e)"
   ]
  },
  {
   "cell_type": "markdown",
   "metadata": {},
   "source": [
    "We can now use the ERobot supercalls which represents the kinematics of a serial-link manipulator.\n",
    "\n",
    "\n",
    "ERobot partitions the elementary transform sequence into a series of links and joints – link frames are declared after each joint variable as well as the start and end of the sequence. The ERobot can represent single-branched robots with any combination of revolute and prismatic joints, but can also represent more general branched mechanisms."
   ]
  },
  {
   "cell_type": "code",
   "execution_count": null,
   "metadata": {},
   "outputs": [],
   "source": [
    "puma = rtb.ERobot(e)\n",
    "print(puma)"
   ]
  },
  {
   "cell_type": "markdown",
   "metadata": {},
   "source": [
    "### Symbolic Reprensetation of a 6 DOF Robot\n",
    "You can define the generalized joint coordinates of a robot as symbolic variables and then pass them directly into the fkine function."
   ]
  },
  {
   "cell_type": "code",
   "execution_count": null,
   "metadata": {},
   "outputs": [],
   "source": [
    "q = base.sym.symbol(\"q_:6\") # q = (q_1, q_2, ... q_5)\n",
    "print(q)"
   ]
  },
  {
   "cell_type": "markdown",
   "metadata": {},
   "source": [
    "You can then visualize a specific element, say the symoblic value for x. Use sym.simplify() for better visualization"
   ]
  },
  {
   "cell_type": "code",
   "execution_count": null,
   "metadata": {},
   "outputs": [],
   "source": [
    "T=puma.fkine_all(q)"
   ]
  },
  {
   "cell_type": "code",
   "execution_count": null,
   "metadata": {},
   "outputs": [],
   "source": [
    "sym.simplify(T.t[0])"
   ]
  },
  {
   "cell_type": "code",
   "execution_count": null,
   "metadata": {},
   "outputs": [],
   "source": []
  }
 ],
 "metadata": {
  "kernelspec": {
   "display_name": "Python 3",
   "language": "python",
   "name": "python3"
  },
  "language_info": {
   "codemirror_mode": {
    "name": "ipython",
    "version": 3
   },
   "file_extension": ".py",
   "mimetype": "text/x-python",
   "name": "python",
   "nbconvert_exporter": "python",
   "pygments_lexer": "ipython3",
   "version": "3.8.5"
  }
 },
 "nbformat": 4,
 "nbformat_minor": 4
}
