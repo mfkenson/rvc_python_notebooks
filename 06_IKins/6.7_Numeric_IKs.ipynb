{
 "cells": [
  {
   "cell_type": "code",
   "execution_count": null,
   "metadata": {},
   "outputs": [],
   "source": [
    "# Works best with jupyter-notebook"
   ]
  },
  {
   "cell_type": "code",
   "execution_count": null,
   "metadata": {},
   "outputs": [],
   "source": [
    "%matplotlib notebook \n",
    "#%matplotlib widget \n",
    "# https://ipython.readthedocs.io/en/stable/interactive/magics.html\n",
    "import math\n",
    "import numpy as np\n",
    "\n",
    "from spatialmath import *\n",
    "from spatialmath.base import *\n",
    "\n",
    "import roboticstoolbox as rtb\n",
    "from roboticstoolbox import *\n",
    "\n",
    "import matplotlib.pyplot as plt\n",
    "np.set_printoptions(linewidth=100, formatter={'float': lambda x: f\"{x:8.4g}\" if abs(x) > 1e-10 else f\"{0:8.4g}\"})"
   ]
  },
  {
   "cell_type": "markdown",
   "metadata": {},
   "source": [
    "# Lecture 6.7 Numeric Inverse Kinematics"
   ]
  },
  {
   "cell_type": "markdown",
   "metadata": {},
   "source": [
    "In this notebook, we will begin to explore the numeric inverse kinematics for different robots.\n",
    "\n",
    "---"
   ]
  },
  {
   "cell_type": "markdown",
   "metadata": {},
   "source": [
    "Under the DHRobot class, we have a number of inverse kinemtic methods that we will study:\n",
    "https://github.com/petercorke/robotics-toolbox-python/wiki/Kinematics\n",
    "https://petercorke.github.io/robotics-toolbox-python/arm_dh.html"
   ]
  },
  {
   "cell_type": "markdown",
   "metadata": {},
   "source": [
    "**Numeric method:**\n",
    "- sol = ikine_LM(T, q0=None): Numerical inverse kinematics by Levenberg-Marquadt optimization (Robot superclass)\n",
    "\n",
    "- sol = ikine_min(T, q0=None, qlim=True) which uses scipy.minimize with user cost function and stiffness. \n",
    "\n",
    "--- \n",
    "\n",
    "The elements of the tuple sol include at least:\n",
    "\n",
    "\n",
    "Element   | Type \t      | Description \n",
    ":---|:---|:---\n",
    "q \t      | ndarray (n)   | Joint coordinates for the solution, or None \n",
    ":---|:---|:---\n",
    "success   | bool \t      | True if a solution found \n",
    ":---|:---|:---\n",
    "reason \t  | str \t      | reason for failure \n",
    ":---|:---|:---\n",
    "iterations| int \t      | number of iterations \n",
    ":---|:---|:---\n",
    "residual  | float \t      | final value of cost function \n",
    "\n",
    "---\n",
    "\n",
    "Note:\n",
    "\n",
    "**numerical IK solvers** minimise a *scalar measure of error* between a starting and the desired end-effector pose. The measure is the squared-norm of a 6-vector comprising:\n",
    "\n",
    "- translational error (a 3-vector)\n",
    "- the orientation error as an Euler vector (angle/axis form encoded as a 3-vector\n",
    "\n",
    "The starting joint angle configuration can be set to your current configuration or an entirely different guess. This can be passed into the q0 variable.\n",
    "\n",
    "Numerical optimization is slower than analytical counterparts. For this toolbox, SciPy based mimimizers are used. They use a scalar cost measure and must *numerically compute a Jacobian* to find a solution. \n"
   ]
  },
  {
   "cell_type": "markdown",
   "metadata": {},
   "source": [
    "Let's start by creating a model for the Puma560 robot."
   ]
  },
  {
   "cell_type": "code",
   "execution_count": null,
   "metadata": {},
   "outputs": [],
   "source": [
    "puma = rtb.models.DH.Puma560()\n",
    "print(puma)"
   ]
  },
  {
   "cell_type": "markdown",
   "metadata": {},
   "source": [
    "Plot with joint angles qn."
   ]
  },
  {
   "cell_type": "code",
   "execution_count": null,
   "metadata": {},
   "outputs": [],
   "source": [
    "puma.plot(puma.qn);"
   ]
  },
  {
   "cell_type": "markdown",
   "metadata": {},
   "source": [
    "Let us use the same example from before to designate a desired end-effector pose that we would like the puma robot to reach. "
   ]
  },
  {
   "cell_type": "code",
   "execution_count": null,
   "metadata": {},
   "outputs": [],
   "source": [
    "T = SE3(0.6, 0.1, 0.5)*SE3().RPY([0, 0, 0], unit='deg')\n",
    "\n",
    "print(type(T))\n",
    "print(T)"
   ]
  },
  {
   "cell_type": "markdown",
   "metadata": {},
   "source": [
    "Plot the desired pose:"
   ]
  },
  {
   "cell_type": "code",
   "execution_count": null,
   "metadata": {},
   "outputs": [],
   "source": [
    "trplot(T.A, dims=[-2,2], frame='EE', rviz=True); # Extracts numpy from T"
   ]
  },
  {
   "cell_type": "markdown",
   "metadata": {},
   "source": [
    "This time however, we will use the numerical methods. Recall that our previous solution was equal to:\n",
    "    - [3.057, 2.644,  0.03708, 0, -2.681, -3.057]"
   ]
  },
  {
   "cell_type": "code",
   "execution_count": null,
   "metadata": {},
   "outputs": [],
   "source": [
    "sol = puma.ikine_LM(T)\n",
    "print(sol)"
   ]
  },
  {
   "cell_type": "markdown",
   "metadata": {},
   "source": [
    "Let's plot this:"
   ]
  },
  {
   "cell_type": "code",
   "execution_count": null,
   "metadata": {},
   "outputs": [],
   "source": [
    "puma.plot(sol.q);"
   ]
  },
  {
   "cell_type": "markdown",
   "metadata": {},
   "source": [
    "The above solution is quite different from what we got in the analytical solution. It is an optimization optimization that may reach a configuration that is quite different than that of the analytical solution.  \n",
    "\n",
    "To learn more lower-level details of the numerical algorithm check out the two additional videos on numerical IKin's I placed in our [youtube playlist](https://www.youtube.com/watch?v=VhUA0jf7tI8&list=PLts2VQxwm4sy6VIJVtLBWL5oJMoTqGXh5&index=18). \n",
    "\n",
    "Test starting from different locations?"
   ]
  },
  {
   "cell_type": "code",
   "execution_count": null,
   "metadata": {},
   "outputs": [],
   "source": [
    "sol = puma.ikine_LM(T, q0=puma.qn)\n",
    "print(sol)"
   ]
  },
  {
   "cell_type": "markdown",
   "metadata": {},
   "source": [
    "The residual is lower but the error is still substantial... plot and visualize."
   ]
  },
  {
   "cell_type": "code",
   "execution_count": null,
   "metadata": {},
   "outputs": [],
   "source": [
    "puma.plot(sol.q);"
   ]
  },
  {
   "cell_type": "markdown",
   "metadata": {},
   "source": [
    "Furthermore, we are not able to choose a desired robot configuration, such as elbow-up..."
   ]
  },
  {
   "cell_type": "markdown",
   "metadata": {},
   "source": [
    "We can do better when we have a goal configuration that is closer to the starting point."
   ]
  },
  {
   "cell_type": "markdown",
   "metadata": {},
   "source": [
    "As we did in notebook 6.6, we will create a sequences of desired joint angle configurations after using ctraj.\\\n",
    "Assign a final pose configuration:"
   ]
  },
  {
   "cell_type": "code",
   "execution_count": null,
   "metadata": {},
   "outputs": [],
   "source": [
    "TF = SE3(0.6, 0.1, 1.0)*SE3().RPY([0, 0, 0], unit='deg')"
   ]
  },
  {
   "cell_type": "markdown",
   "metadata": {},
   "source": [
    "Interpolate in task space:"
   ]
  },
  {
   "cell_type": "code",
   "execution_count": null,
   "metadata": {},
   "outputs": [],
   "source": [
    "des_T = ctraj(T,TF,100)\n",
    "print(len(des_T))"
   ]
  },
  {
   "cell_type": "markdown",
   "metadata": {},
   "source": [
    "Compute ikine solns:"
   ]
  },
  {
   "cell_type": "code",
   "execution_count": null,
   "metadata": {},
   "outputs": [],
   "source": [
    "des_q = puma.ikine_LM(des_T)\n",
    "print(des_q[9])"
   ]
  },
  {
   "cell_type": "markdown",
   "metadata": {},
   "source": [
    "Notice the lower error residual at the end... Why is this?"
   ]
  },
  {
   "cell_type": "markdown",
   "metadata": {},
   "source": [
    "Get ready to plot. You will notice that the end-effector reaches the desired pose quite well."
   ]
  },
  {
   "cell_type": "code",
   "execution_count": null,
   "metadata": {},
   "outputs": [],
   "source": [
    "q = np.array([ des_q[i].q for i in range(0,len(des_q))])\n",
    "print(type(q))"
   ]
  },
  {
   "cell_type": "code",
   "execution_count": null,
   "metadata": {},
   "outputs": [],
   "source": [
    "puma.plot(q);"
   ]
  },
  {
   "cell_type": "markdown",
   "metadata": {},
   "source": [
    "### Student Exercise\n",
    "Study the solutions for a spherical wrist. For example... test different configurations where you vary:\n",
    "\n",
    "- the roll angle from -90 to 90\n",
    "- the pictch angle from -90 to 90\n",
    "- the yaw angle from -90 to 90\n",
    "\n",
    "i.e. roll = a=np.linspace(-90,90,181)\n",
    "````    \n",
    "T = SE3(2.0, 0.1, 0.5)*SE3().RPY([roll, 0, 0], unit='deg')\\\n",
    "````"
   ]
  },
  {
   "cell_type": "code",
   "execution_count": null,
   "metadata": {},
   "outputs": [],
   "source": []
  }
 ],
 "metadata": {
  "kernelspec": {
   "display_name": "Python 3",
   "language": "python",
   "name": "python3"
  },
  "language_info": {
   "codemirror_mode": {
    "name": "ipython",
    "version": 3
   },
   "file_extension": ".py",
   "mimetype": "text/x-python",
   "name": "python",
   "nbconvert_exporter": "python",
   "pygments_lexer": "ipython3",
   "version": "3.8.5"
  }
 },
 "nbformat": 4,
 "nbformat_minor": 4
}
