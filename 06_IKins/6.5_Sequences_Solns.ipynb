{
 "cells": [
  {
   "cell_type": "code",
   "execution_count": null,
   "metadata": {},
   "outputs": [],
   "source": [
    "# Works best with jupyter-notebook"
   ]
  },
  {
   "cell_type": "code",
   "execution_count": null,
   "metadata": {},
   "outputs": [],
   "source": [
    "%matplotlib notebook \n",
    "#%matplotlib widget \n",
    "# https://ipython.readthedocs.io/en/stable/interactive/magics.html\n",
    "import math\n",
    "import numpy as np\n",
    "\n",
    "from spatialmath import *\n",
    "from spatialmath.base import *\n",
    "\n",
    "import roboticstoolbox as rtb\n",
    "from roboticstoolbox import *\n",
    "\n",
    "import matplotlib.pyplot as plt\n",
    "np.set_printoptions(linewidth=100, formatter={'float': lambda x: f\"{x:8.4g}\" if abs(x) > 1e-10 else f\"{0:8.4g}\"})"
   ]
  },
  {
   "cell_type": "markdown",
   "metadata": {},
   "source": [
    "# Lecture 6.5 Sequence Solutions"
   ]
  },
  {
   "cell_type": "markdown",
   "metadata": {},
   "source": [
    "This notebook continues IKins but this time we want to visualize sequences of solutions.\n",
    "\n",
    "---"
   ]
  },
  {
   "cell_type": "markdown",
   "metadata": {},
   "source": [
    "Under the DHRobot class, we have a number of inverse kinemtic methods that we will study:\n",
    "https://github.com/petercorke/robotics-toolbox-python/wiki/Kinematics\n",
    "https://petercorke.github.io/robotics-toolbox-python/arm_dh.html"
   ]
  },
  {
   "cell_type": "markdown",
   "metadata": {},
   "source": [
    "**Analytic method:**\n",
    "- sol = ikine_a(T, config='lun'): for specific DH robots only\n",
    "\n",
    "*Note: Wherever possible use analytic methods as they are much faster and more accurate.*\n",
    "\n",
    "**Numeric method:**\n",
    "- sol = ikine_LM(T, q0=None): Numerical inverse kinematics by Levenberg-Marquadt optimization (Robot superclass)\n",
    "\n",
    "- sol = ikine_min(qlim=True) which uses scipy.minimize with user cost function and stiffness. \n",
    "\n",
    "--- \n",
    "\n",
    "The elements of the tuple sol include at least:\n",
    "\n",
    "\n",
    "Element   | Type \t      | Description \n",
    ":---|:---|:---\n",
    "q \t      | ndarray (n)   | Joint coordinates for the solution, or None \n",
    ":---|:---|:---\n",
    "success   | bool \t      | True if a solution found \n",
    ":---|:---|:---\n",
    "reason \t  | str \t      | reason for failure \n",
    ":---|:---|:---\n",
    "iterations| int \t      | number of iterations \n",
    ":---|:---|:---\n",
    "residual  | float \t      | final value of cost function \n",
    "\n",
    "---\n",
    "\n",
    "Note that **numerical IK solvers** minimise a *scalar measure of error* between the current and the desired end-effector pose. The measure is the squared-norm of a 6-vector comprising:\n",
    "\n",
    "- translational error (a 3-vector)\n",
    "- the orientation error as an Euler vector (angle/axis form encoded as a 3-vector)\n",
    "\n",
    "The SciPy based mimimizers are **slow** because they use a scalar cost measure and must *numerically compute a Jacobian* in order to solve.\n"
   ]
  },
  {
   "cell_type": "markdown",
   "metadata": {},
   "source": [
    "Let's start by creating a model for the Puma560 robot."
   ]
  },
  {
   "cell_type": "code",
   "execution_count": null,
   "metadata": {},
   "outputs": [],
   "source": [
    "puma = rtb.models.DH.Puma560()"
   ]
  },
  {
   "cell_type": "markdown",
   "metadata": {},
   "source": [
    "Designate a starting end-effector pose for the puma robot."
   ]
  },
  {
   "cell_type": "code",
   "execution_count": null,
   "metadata": {},
   "outputs": [],
   "source": [
    "T = SE3(0.6, 0.1, 0.5)*SE3().RPY([0, 0, 0], unit='deg')\n",
    "\n",
    "print(type(T))\n",
    "print(T)"
   ]
  },
  {
   "cell_type": "markdown",
   "metadata": {},
   "source": [
    "Now designate a final configurationa and use ctraj to generate a smooth interpolated sequence. "
   ]
  },
  {
   "cell_type": "code",
   "execution_count": null,
   "metadata": {},
   "outputs": [],
   "source": [
    "TF = SE3(0.6, 0.1, 1.0)*SE3().RPY([0, 0, 0], unit='deg')"
   ]
  },
  {
   "cell_type": "code",
   "execution_count": null,
   "metadata": {},
   "outputs": [],
   "source": [
    "des_T = ctraj(T,TF,10)\n",
    "print(len(des_T))"
   ]
  },
  {
   "cell_type": "markdown",
   "metadata": {},
   "source": [
    "To compute a sequence of inverse kinematic solutions:\n",
    "\n",
    "1. Take your poses and convert them to joint angles via ikin_a\n",
    "2. Extract the sequence of joint angles into a numpy array matrix\n",
    "3. Call robot.plot(q) to visualize."
   ]
  },
  {
   "cell_type": "code",
   "execution_count": null,
   "metadata": {},
   "outputs": [],
   "source": [
    "des_q = puma.ikine_a(des_T)"
   ]
  },
  {
   "cell_type": "markdown",
   "metadata": {},
   "source": [
    "Visualize type, start, and end joint angles"
   ]
  },
  {
   "cell_type": "code",
   "execution_count": null,
   "metadata": {},
   "outputs": [],
   "source": [
    "print(type(des_q[0].q))\n",
    "\n",
    "\n",
    "print(des_q[0].q)\n",
    "print(des_q[len(des_q)-1].q)"
   ]
  },
  {
   "cell_type": "markdown",
   "metadata": {},
   "source": [
    "Extract list of angles"
   ]
  },
  {
   "cell_type": "code",
   "execution_count": null,
   "metadata": {},
   "outputs": [],
   "source": [
    "q = np.empty([len(des_q), len(des_q[0].q)]) # Create an empty version of all joint angles: T x q\n",
    "\n",
    "# Fill\n",
    "for i in range(0,len(des_q)):\n",
    "    q[i]=des_q[i].q\n",
    "print(q)"
   ]
  },
  {
   "cell_type": "markdown",
   "metadata": {},
   "source": [
    "Visualize the robot moving through this sequence of angles. "
   ]
  },
  {
   "cell_type": "code",
   "execution_count": null,
   "metadata": {},
   "outputs": [],
   "source": [
    "puma.plot(q);"
   ]
  },
  {
   "cell_type": "markdown",
   "metadata": {},
   "source": [
    "### Solutions with different configurations\n"
   ]
  },
  {
   "cell_type": "markdown",
   "metadata": {},
   "source": [
    "By default the inverse kinematics use a configuration of 'lun'. We can test solving the same problem as above with an elbow down."
   ]
  },
  {
   "cell_type": "code",
   "execution_count": null,
   "metadata": {},
   "outputs": [],
   "source": [
    "des_q = puma.ikine_a(des_T, config='ldn')"
   ]
  },
  {
   "cell_type": "markdown",
   "metadata": {},
   "source": [
    "I will fill the q numpy array again, but this time pythonize the process by using a list comprehension inside and then casting the list as a numpy array."
   ]
  },
  {
   "cell_type": "code",
   "execution_count": null,
   "metadata": {},
   "outputs": [],
   "source": [
    "q = np.array([ des_q[i].q for i in range(0,len(des_q))])\n",
    "print(type(q))"
   ]
  },
  {
   "cell_type": "code",
   "execution_count": null,
   "metadata": {},
   "outputs": [],
   "source": [
    "puma.plot(q);"
   ]
  },
  {
   "cell_type": "markdown",
   "metadata": {},
   "source": [
    "### Student exercise\n",
    "\n",
    "Notice that in fact, for any valid pose, there are 8 solutions:\n",
    "- 2 according to l/r\n",
    "- 2 according to u/d\n",
    "- 2 accodgin to w/n\n",
    "\n",
    "A criteria could be developed to know which configuration accoding to your task.\n",
    "\n",
    "**Part A**\\\n",
    "- Try generating a trajectory from a 'lun' solution to a 'run' solution.\n",
    "- Try generating a trajectory from a 'lun' solution to a 'ldn' solution. "
   ]
  },
  {
   "cell_type": "markdown",
   "metadata": {},
   "source": [
    "**Part B**\\\n",
    "Try rendering other types of robots that have available models using a swift backend as shown here:\n",
    "https://github.com/petercorke/robotics-toolbox-python\n",
    "\n",
    "````\n",
    "env = rtb.backends.Swift()  # instantiate 3D browser-based visualizer\n",
    "env.launch()                # activate it\n",
    "env.add(robot)              # add robot to the 3D scene\n",
    "for qk in des_q[i].q:       # for each joint configuration on trajectory\n",
    "    robot.q = qk            # update the robot state\n",
    "    env.step()\n",
    "````\n",
    "\n",
    "Then share your results with the class via piazza under a title: \"IKins with Rendered Robots\""
   ]
  },
  {
   "cell_type": "markdown",
   "metadata": {},
   "source": [
    "**Part C**\\\n",
    "So far, we only found poses with solutions for the puma robot. Could you explore some poses with no solutions?\n",
    "Post your results to piazza as well under a title: \"No IKin Solns\""
   ]
  },
  {
   "cell_type": "code",
   "execution_count": null,
   "metadata": {},
   "outputs": [],
   "source": []
  }
 ],
 "metadata": {
  "kernelspec": {
   "display_name": "Python 3",
   "language": "python",
   "name": "python3"
  },
  "language_info": {
   "codemirror_mode": {
    "name": "ipython",
    "version": 3
   },
   "file_extension": ".py",
   "mimetype": "text/x-python",
   "name": "python",
   "nbconvert_exporter": "python",
   "pygments_lexer": "ipython3",
   "version": "3.8.5"
  }
 },
 "nbformat": 4,
 "nbformat_minor": 4
}
